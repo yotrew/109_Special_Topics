{
 "cells": [
  {
   "cell_type": "markdown",
   "metadata": {},
   "source": [
    "## This is a example for BeautifulSoup\n",
    "example code:\n",
    "```\n",
    "from bs4 import BeautifulSoup\n",
    "sp = BeautifulSoup(原始碼,'html.parser')\n",
    "```"
   ]
  },
  {
   "cell_type": "code",
   "execution_count": 7,
   "metadata": {},
   "outputs": [
    {
     "name": "stdout",
     "output_type": "stream",
     "text": [
      "\r\n",
      "\r\n",
      "<!doctype html>\r\n",
      "<html>\r\n",
      "  <head>\r\n",
      "    <meta charset=\"UTF-8\">\r\n",
      "    <title>Yotrew</title>\r\n",
      "  </head>\r\n",
      "  <body>\r\n",
      "    <h1 class=\"large\">我是標題--Yotrew</h1>\r\n",
      "    <h1 class=\"small\">我是標題2--Yotrew</h1>\r\n",
      "    <div>\r\n",
      "      <p id=\"p1\" class=\"large\">我是段落一--Yotrew</p>\r\n",
      "      <p id=\"p2\" style=\"font-size:16pt\">我是段落二--座號:213</p>\r\n",
      "      <p id=\"p3\" style=\"font-size:16pt\" align=\"center\">我是段落3--班級:﻿213</p>\r\n",
      "      <img src=\"https://www.w3.org/html/logo/downloads/HTML5_Logo_256.png\" alt=\"HTML5 logo\">\r\n",
      "      <ul>\r\n",
      "        <li class=\"odd\"><a href=\"http://www.ksvcs.kh.edu.tw\">我是超連結1</a></li>\r\n",
      "        <li class=\"even\"><a href=\"http://163.32.95.11/076213\">我是超連結2</a></li>\r\n",
      "      </ul>\r\n",
      "    </div>\r\n",
      "  </body>\r\n",
      "</html>\r\n",
      "\n",
      "我是標題--Yotrew\n",
      "我是段落一--Yotrew\n",
      "我是段落一--Yotrew\n"
     ]
    }
   ],
   "source": [
    "# -*- coding: utf-8 -*-\n",
    "\"\"\"\n",
    "Created on Thu Mar 26 11:27:22 2020\n",
    "\n",
    "@author: Yotrew\n",
    "\"\"\"\n",
    "import requests\n",
    "from bs4 import BeautifulSoup\n",
    "\n",
    "url=\"http://163.32.95.11/project/076213_2.html\"\n",
    "r=requests.get(url)\n",
    "r.encoding=\"utf-8\"\n",
    "print(r.text)\n",
    "h=BeautifulSoup(r.text,\"html.parser\")\n",
    "\n",
    "print(h.h1.text)\n",
    "print(h.p.text)\n",
    "print(h.p.text)"
   ]
  },
  {
   "cell_type": "markdown",
   "metadata": {},
   "source": [
    "## 以HTML標籤(tag) 為搜尋目標\n",
    "### --> tag: <xxx ></xxx>   xxx is Tag\n",
    "\n",
    ".find():找到第一個符合的HTML標籤,找不到為None\n",
    ".find_all():傳回所有符合條件的tag,傳回型態為List,若找不到傳回空List"
   ]
  },
  {
   "cell_type": "code",
   "execution_count": 8,
   "metadata": {},
   "outputs": [
    {
     "name": "stdout",
     "output_type": "stream",
     "text": [
      "<h1 class=\"large\">我是標題--Yotrew</h1>\n",
      "<p class=\"large\" id=\"p1\">我是段落一--Yotrew</p>\n",
      "[<p class=\"large\" id=\"p1\">我是段落一--Yotrew</p>, <p id=\"p2\" style=\"font-size:16pt\">我是段落二--座號:213</p>, <p align=\"center\" id=\"p3\" style=\"font-size:16pt\">我是段落3--班級:﻿213</p>]\n"
     ]
    }
   ],
   "source": [
    "s=h.find(\"h1\")\n",
    "print(s)\n",
    "s=h.find(\"p\")\n",
    "print(s)\n",
    "s=h.find_all(\"p\")\n",
    "print(s)"
   ]
  },
  {
   "cell_type": "code",
   "execution_count": 3,
   "metadata": {},
   "outputs": [
    {
     "name": "stdout",
     "output_type": "stream",
     "text": [
      "<p class=\"large\" id=\"p1\">我是段落一--Yotrew</p>\n",
      "<p id=\"p2\" style=\"font-size:16pt\">我是段落二--座號:1213</p>\n"
     ]
    }
   ],
   "source": [
    "for i in range(0,len(s)):\n",
    "    print(s[i])"
   ]
  },
  {
   "cell_type": "markdown",
   "metadata": {},
   "source": [
    "## 以HTML標籤(tag)+屬性值 為搜尋目標\n",
    "### --> tag: <xxx yy='aa'></xxx>   yy is property, aa is value of yy\n",
    "find(tag,{property})"
   ]
  },
  {
   "cell_type": "code",
   "execution_count": 16,
   "metadata": {},
   "outputs": [
    {
     "name": "stdout",
     "output_type": "stream",
     "text": [
      "<h1 class=\"small\">我是標題2--Yotrew</h1>\n",
      "<p id=\"p2\" style=\"font-size:16pt\">我是段落二--座號:213</p>\n",
      "---我是分隔線---\n",
      "<p id=\"p2\" style=\"font-size:16pt\">我是段落二--座號:213</p>\n",
      "---我是分隔線---\n",
      "<p align=\"center\" id=\"p3\" style=\"font-size:16pt\">我是段落3--班級:﻿213</p>\n"
     ]
    }
   ],
   "source": [
    "print(h.find(\"h1\",class_=\"small\")) #class為python的關鍵字,所以參數名要使用class_\n",
    "print(h.find(\"p\", id=\"p2\"))\n",
    "h.find(\"a\", href=\"http://www.ksvcs.kh.edu.tw\")\n",
    "print(\"---我是分隔線---\")\n",
    "print(h.find(\"p\", style=\"font-size:16pt\"))\n",
    "print(\"---我是分隔線---\")\n",
    "print(h.find(\"p\", {\"style\":\"font-size:16pt\",\"align\":\"center\"})) #有多個屬性時"
   ]
  },
  {
   "cell_type": "markdown",
   "metadata": {},
   "source": [
    "## 使用CSS選擇器(selector)\n",
    "Ref:[CSS 選擇器](https://developer.mozilla.org/zh-TW/docs/Glossary/CSS_Selector)\n",
    "Ref:[CSS Selector Reference](https://www.w3schools.com/cssref/css_selectors.asp)\n",
    "\n",
    "select():使用CSS selector讀取做為搜尋目標,return value is List\n",
    "            "
   ]
  },
  {
   "cell_type": "code",
   "execution_count": 19,
   "metadata": {},
   "outputs": [
    {
     "name": "stdout",
     "output_type": "stream",
     "text": [
      "[<h1 class=\"large\">我是標題--Yotrew</h1>, <h1 class=\"small\">我是標題2--Yotrew</h1>]\n",
      "[<p id=\"p2\" style=\"font-size:16pt\">我是段落二--座號:213</p>]\n",
      "[<h1 class=\"large\">我是標題--Yotrew</h1>, <p class=\"large\" id=\"p1\">我是段落一--Yotrew</p>]\n",
      "[<li class=\"odd\"><a href=\"http://www.ksvcs.kh.edu.tw\">我是超連結1</a></li>, <li class=\"even\"><a href=\"http://163.32.95.11/076213\">我是超連結2</a></li>]\n",
      "[<a href=\"http://163.32.95.11/076213\">我是超連結2</a>]\n",
      "[<a href=\"http://163.32.95.11/076213\">我是超連結2</a>]\n"
     ]
    }
   ],
   "source": [
    "print(h.select(\"h1\")) #tag\n",
    "print(h.select(\"#p2\")) #id\n",
    "print(h.select(\".large\")) #css style\n",
    "print(h.select(\"ul li\"))\n",
    "print(h.select(\"ul li.even a\"))\n",
    "print(h.select(\"a[href='http://163.32.95.11/076213']\")) #tag+property"
   ]
  },
  {
   "cell_type": "markdown",
   "metadata": {},
   "source": [
    "## 取得屬性內容\n",
    "1. .get('property') --> bsObj.get('property') \n",
    "2. `['propery'`] --> bsObj.`['propery'`]\n"
   ]
  },
  {
   "cell_type": "code",
   "execution_count": 22,
   "metadata": {},
   "outputs": [
    {
     "name": "stdout",
     "output_type": "stream",
     "text": [
      "http://www.ksvcs.kh.edu.tw\n",
      "http://www.ksvcs.kh.edu.tw\n"
     ]
    }
   ],
   "source": [
    "s=h.find(\"a\")\n",
    "print(s.get(\"href\"))\n",
    "print(s[\"href\"])"
   ]
  },
  {
   "cell_type": "markdown",
   "metadata": {},
   "source": [
    "##  implementation for BeautifulSoup\n",
    "### Taiwan Lottery\n"
   ]
  },
  {
   "cell_type": "code",
   "execution_count": 23,
   "metadata": {},
   "outputs": [
    {
     "name": "stdout",
     "output_type": "stream",
     "text": [
      "109/10/16 第109000091期 \n",
      "開獎順序: 07  44  28  25  47  33  \n",
      "大小順序: 07  25  28  33  44  47  \n",
      "特別號: 19 \n"
     ]
    }
   ],
   "source": [
    "import requests\n",
    "from bs4 import BeautifulSoup\n",
    "url=\"https://www.taiwanlottery.com.tw/\"\n",
    "html=requests.get(url)\n",
    "html.encoding=\"UTF-8\"\n",
    "bs=BeautifulSoup(html.text,\"html.parser\")\n",
    "data=bs.find_all(\"div\",class_=\"contents_box02\")\n",
    "for x in data:\n",
    "    if x.find(\"div\",id=\"contents_logo_04\"):\n",
    "        issue=x.find(\"span\",class_=\"font_black15\")\n",
    "        print(issue.text)\n",
    "        open_seq=x.find_all(\"div\",class_=\"ball_tx ball_yellow\")\n",
    "        print(\"開獎順序:\",end=\" \")\n",
    "        for i in range(0,6):\n",
    "            print(open_seq[i].text,end=\" \")\n",
    "        print()\n",
    "        print(\"大小順序:\",end=\" \")\n",
    "        for i in range(6,12):\n",
    "            print(open_seq[i].text,end=\" \")\n",
    "        print()\n",
    "        print(\"特別號:\",x.find(\"div\",class_=\"ball_red\").text)"
   ]
  },
  {
   "cell_type": "code",
   "execution_count": null,
   "metadata": {},
   "outputs": [],
   "source": []
  }
 ],
 "metadata": {
  "kernelspec": {
   "display_name": "Python 3",
   "language": "python",
   "name": "python3"
  },
  "language_info": {
   "codemirror_mode": {
    "name": "ipython",
    "version": 3
   },
   "file_extension": ".py",
   "mimetype": "text/x-python",
   "name": "python",
   "nbconvert_exporter": "python",
   "pygments_lexer": "ipython3",
   "version": "3.7.1"
  }
 },
 "nbformat": 4,
 "nbformat_minor": 2
}
