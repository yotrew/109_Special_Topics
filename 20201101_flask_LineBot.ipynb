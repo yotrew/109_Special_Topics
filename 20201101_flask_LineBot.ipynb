{
 "cells": [
  {
   "cell_type": "markdown",
   "metadata": {
    "id": "GoFYJxjeDwla"
   },
   "source": [
    "## Flask\n",
    "Flask是一個Web應用程式framework，使用python所寫成的  \n",
    "可以使用Flask來建立動態網頁的應用服務 \n"
   ]
  },
  {
   "cell_type": "code",
   "execution_count": null,
   "metadata": {
    "colab": {
     "base_uri": "https://localhost:8080/"
    },
    "id": "s1_etQVuDzM8",
    "outputId": "c3c6ed47-7fbf-4ef9-c767-e1086499b10a"
   },
   "outputs": [
    {
     "name": "stdout",
     "output_type": "stream",
     "text": [
      " * Serving Flask app \"__main__\" (lazy loading)\n",
      " * Environment: production\n",
      "\u001b[31m   WARNING: This is a development server. Do not use it in a production deployment.\u001b[0m\n",
      "\u001b[2m   Use a production WSGI server instead.\u001b[0m\n",
      " * Debug mode: off\n"
     ]
    },
    {
     "name": "stderr",
     "output_type": "stream",
     "text": [
      " * Running on http://127.0.0.1:5000/ (Press CTRL+C to quit)\n"
     ]
    }
   ],
   "source": [
    "from flask import Flask\n",
    "app = Flask(__name__)\n",
    "\n",
    "@app.route(\"/\") #定義URL路徑與配合的function,此意思是首頁會執行hello()這個函數\n",
    "def hello():\n",
    "    return \"Hello World!\"\n",
    "\n",
    "if __name__ == \"__main__\":\n",
    "    app.run() # app.run(host=\"IP address\",port=port number), default port=5000"
   ]
  },
  {
   "cell_type": "markdown",
   "metadata": {
    "id": "1ZMUsJGKEghi"
   },
   "source": [
    "如果在colab上要執行flask,  \n",
    "則要使用flask-ngrok來讓外部網路能連上在虛擬機器上的執行的服務  \n",
    "首先使用pip指令安裝flask-ngrok  \n",
    "!pip install flask-ngrok  \n",
    "Ref:https://aishuafei.com/google-colab-flask/\n",
    "Ref:https://medium.com/@kshitijvijay271199/flask-on-google-colab-f6525986797b\n",
    "\n"
   ]
  },
  {
   "cell_type": "code",
   "execution_count": null,
   "metadata": {
    "colab": {
     "base_uri": "https://localhost:8080/"
    },
    "id": "98Q8EKm8EfZ6",
    "outputId": "b8333f06-92d3-4e9e-fb94-07036d6ef22f"
   },
   "outputs": [
    {
     "name": "stdout",
     "output_type": "stream",
     "text": [
      "Collecting flask-ngrok\n",
      "  Downloading https://files.pythonhosted.org/packages/af/6c/f54cb686ad1129e27d125d182f90f52b32f284e6c8df58c1bae54fa1adbc/flask_ngrok-0.0.25-py3-none-any.whl\n",
      "Requirement already satisfied: Flask>=0.8 in /usr/local/lib/python3.6/dist-packages (from flask-ngrok) (1.1.2)\n",
      "Requirement already satisfied: requests in /usr/local/lib/python3.6/dist-packages (from flask-ngrok) (2.23.0)\n",
      "Requirement already satisfied: itsdangerous>=0.24 in /usr/local/lib/python3.6/dist-packages (from Flask>=0.8->flask-ngrok) (1.1.0)\n",
      "Requirement already satisfied: Jinja2>=2.10.1 in /usr/local/lib/python3.6/dist-packages (from Flask>=0.8->flask-ngrok) (2.11.2)\n",
      "Requirement already satisfied: click>=5.1 in /usr/local/lib/python3.6/dist-packages (from Flask>=0.8->flask-ngrok) (7.1.2)\n",
      "Requirement already satisfied: Werkzeug>=0.15 in /usr/local/lib/python3.6/dist-packages (from Flask>=0.8->flask-ngrok) (1.0.1)\n",
      "Requirement already satisfied: certifi>=2017.4.17 in /usr/local/lib/python3.6/dist-packages (from requests->flask-ngrok) (2020.6.20)\n",
      "Requirement already satisfied: chardet<4,>=3.0.2 in /usr/local/lib/python3.6/dist-packages (from requests->flask-ngrok) (3.0.4)\n",
      "Requirement already satisfied: urllib3!=1.25.0,!=1.25.1,<1.26,>=1.21.1 in /usr/local/lib/python3.6/dist-packages (from requests->flask-ngrok) (1.24.3)\n",
      "Requirement already satisfied: idna<3,>=2.5 in /usr/local/lib/python3.6/dist-packages (from requests->flask-ngrok) (2.10)\n",
      "Requirement already satisfied: MarkupSafe>=0.23 in /usr/local/lib/python3.6/dist-packages (from Jinja2>=2.10.1->Flask>=0.8->flask-ngrok) (1.1.1)\n",
      "Installing collected packages: flask-ngrok\n",
      "Successfully installed flask-ngrok-0.0.25\n"
     ]
    }
   ],
   "source": [
    "!pip install flask-ngrok"
   ]
  },
  {
   "cell_type": "code",
   "execution_count": null,
   "metadata": {
    "colab": {
     "base_uri": "https://localhost:8080/"
    },
    "id": "PeOobB7PEdep",
    "outputId": "9e3d5afd-d82a-4d9f-f8c9-96046a34481f"
   },
   "outputs": [
    {
     "name": "stdout",
     "output_type": "stream",
     "text": [
      " * Serving Flask app \"__main__\" (lazy loading)\n",
      " * Environment: production\n",
      "\u001b[31m   WARNING: This is a development server. Do not use it in a production deployment.\u001b[0m\n",
      "\u001b[2m   Use a production WSGI server instead.\u001b[0m\n",
      " * Debug mode: off\n"
     ]
    },
    {
     "name": "stderr",
     "output_type": "stream",
     "text": [
      " * Running on http://127.0.0.1:5000/ (Press CTRL+C to quit)\n"
     ]
    },
    {
     "name": "stdout",
     "output_type": "stream",
     "text": [
      " * Running on http://a1941f510cc4.ngrok.io\n",
      " * Traffic stats available on http://127.0.0.1:4040\n"
     ]
    },
    {
     "name": "stderr",
     "output_type": "stream",
     "text": [
      "127.0.0.1 - - [31/Oct/2020 09:55:03] \"\u001b[37mGET / HTTP/1.1\u001b[0m\" 200 -\n",
      "127.0.0.1 - - [31/Oct/2020 09:55:04] \"\u001b[33mGET /favicon.ico HTTP/1.1\u001b[0m\" 404 -\n"
     ]
    }
   ],
   "source": [
    "\n",
    "from flask_ngrok import run_with_ngrok\n",
    "from flask import Flask\n",
    "app = Flask(__name__)\n",
    "run_with_ngrok(app)   #使用ngrok\n",
    "@app.route(\"/\")\n",
    "def hello():\n",
    "    return \"Hello World!\"\n",
    "\n",
    "if __name__ == \"__main__\":\n",
    "    app.run() # app.run(host=\"IP address\",port=port number)"
   ]
  },
  {
   "cell_type": "code",
   "execution_count": null,
   "metadata": {
    "id": "fd4e4Yy5aB_C"
   },
   "outputs": [],
   "source": [
    "# !/usr/bin/python3\n",
    "# -*-coding:utf-8 -*-\n",
    "#Ref:http://white5168.blogspot.com/2017/01/pythonsyntaxerror-non-ascii-character.html#.X51JFlgza00\n",
    "\n",
    "from flask import Flask\n",
    "app = Flask(__name__)\n",
    "\n",
    "@app.route(\"/\") #定義URL路徑與配合的function,此意思是首頁會執行hello()這個函數\n",
    "def hello():\n",
    "    return \"Hello World!\"\n",
    "\n",
    "@app.route(\"/奇奇\") #\n",
    "def chichi():\n",
    "    return \"Hello World!,奇奇\"\n",
    "\n",
    "if __name__ == \"__main__\":\n",
    "    app.run() # app.run(host=\"IP address\",port=port number), default port=5000\n"
   ]
  },
  {
   "cell_type": "markdown",
   "metadata": {
    "id": "P0ssPZKfaSiU"
   },
   "source": [
    "### 多個路徑指向同一個函數\n",
    "也就是多個路徑指向同一個網頁  \n",
    "ex.\n",
    "```\n",
    "@app.route(\"/\")  \n",
    "@app.route(\"/second_route\")   \n",
    "def function_name():  \n",
    "```\n",
    "### 路徑使用參數傳遞, <資料型態:參數>\n",
    "ex.\n",
    "```\n",
    "@app.route(\"/<string:name>\")  \n",
    "def function_name(name):  \n",
    "   return \"Hello {}!\".format(name)\n",
    "```"
   ]
  },
  {
   "cell_type": "code",
   "execution_count": null,
   "metadata": {
    "id": "3UUsj48saHrW"
   },
   "outputs": [],
   "source": [
    "# !/usr/bin/python3\n",
    "# -*-coding:utf-8 -*-\n",
    "#Ref:http://white5168.blogspot.com/2017/01/pythonsyntaxerror-non-ascii-character.html#.X51JFlgza00\n",
    "\n",
    "from flask import Flask\n",
    "app = Flask(__name__)\n",
    "\n",
    "@app.route(\"/\") #定義URL路徑與配合的function,此意思是首頁會執行hello()這個函數\n",
    "@app.route(\"/hello\") #定義URL路徑與配合的function,此意思是首頁會執行hello()這個函數\n",
    "def hello():\n",
    "    return \"Hello World!\"\n",
    "\n",
    "@app.route(\"/奇奇\") #\n",
    "def chichi():\n",
    "    return \"Hello World!,奇奇\"\n",
    "\n",
    "@app.route(\"/<string:msg>\") #\n",
    "def hi(msg):\n",
    "    return \"hi,you say:{}!\".format(msg)\n",
    "\n",
    "if __name__ == \"__main__\":\n",
    "    app.run() # app.run(host=\"IP address\",port=port number), default port=5000\n"
   ]
  },
  {
   "cell_type": "markdown",
   "metadata": {
    "id": "a3XTMjJycu0y"
   },
   "source": [
    "### 使用HTML模板\n",
    "from flask import render_template  \n",
    "...  \n",
    "引入模板:  \n",
    "render_template('模板檔案名稱')\n",
    "\n",
    "模版檔案要放在templates目錄中\n",
    "\n",
    "\n",
    "\n"
   ]
  },
  {
   "cell_type": "code",
   "execution_count": null,
   "metadata": {
    "id": "UA9BSCpMeUfk"
   },
   "outputs": [],
   "source": [
    "# !/usr/bin/python3\n",
    "# -*-coding:utf-8 -*-\n",
    "from flask import Flask\n",
    "from flask import render_template\n",
    "\n",
    "app = Flask(__name__)\n",
    "\n",
    "@app.route(\"/\") #定義URL路徑與配合的function,此意思是首頁會執行hello()這個函數\n",
    "@app.route(\"/hello\") #定義URL路徑與配合的function,此意思是首頁會執行hello()這個函數\n",
    "def hello():\n",
    "    return render_template('hi.html')  #在templates目錄中建一個hi.html檔案\n",
    "\n",
    "\n",
    "if __name__ == \"__main__\":\n",
    "    app.run() # app.run(host=\"IP address\",port=port number), default port=5000\n"
   ]
  },
  {
   "cell_type": "markdown",
   "metadata": {
    "id": "G41aS2cweZy0"
   },
   "source": [
    "### HTML模板中使用參數\n",
    "在html檔案中，參數使用{{}}括起來  \n",
    "ex.\n",
    "```\n",
    "<html>\n",
    "  <head>\n",
    "    <meta charset='utf-8'>\n",
    "    <title>Flask example</title>\n",
    "  </head>\n",
    "<body>\n",
    "        Hi,{{msg}}!!\n",
    "</body>\n",
    "</html>\n",
    "\n",
    "```\n",
    "在python中就要有相對應名稱的變數\n",
    "\n"
   ]
  },
  {
   "cell_type": "code",
   "execution_count": null,
   "metadata": {
    "id": "ybGL7RhnfTfS"
   },
   "outputs": [],
   "source": [
    "# !/usr/bin/python3\n",
    "# -*-coding:utf-8 -*-\n",
    "from flask import Flask\n",
    "from flask import render_template\n",
    "import time\n",
    "\n",
    "app = Flask(__name__)\n",
    "\n",
    "@app.route(\"/<string:msg>\") #定義URL路徑與配合的function,此意思是首頁會執行hello()這個函數\n",
    "def hello(msg):\n",
    "    now=time.strftime('%Y-%m-%d %H:%M:%S', time.localtime())\n",
    "    return render_template('hi2.html',**locals()) #在templates目錄中建一個h2.html檔案\n",
    "\n",
    "\n",
    "if __name__ == \"__main__\":\n",
    "    app.run() # app.run(host=\"IP address\",port=port number), default port=5000"
   ]
  },
  {
   "cell_type": "markdown",
   "metadata": {
    "id": "vkBScUwOhe3-"
   },
   "source": [
    "## 取得GET/POST的值\n",
    "先import\n",
    "from flask import request  \n",
    "在route後面要加上method  \n",
    "@app.route(\"/post_submit\", methods=['GET', 'POST'])   \n",
    "\n",
    "get:  \n",
    "request.args.get('var_name')  \n",
    "post:  \n",
    "request.values['username']"
   ]
  },
  {
   "cell_type": "code",
   "execution_count": null,
   "metadata": {
    "id": "yXbTgH2riA_N"
   },
   "outputs": [],
   "source": [
    "'''\n",
    "<html>\n",
    "<head>\n",
    "<meta charset=\"UTF-8\">\n",
    "<title>Get/Post</title>\n",
    "</head>\n",
    "<body>\n",
    "<form method='post' action=\"{{ url_for('submit') }}\">\n",
    "<p>你的名字:<input type='text' name='username' /></p>\n",
    "<p>\n",
    "<button type='submit'>送出</button>\n",
    "</p>\n",
    "</form>\n",
    "</body>\n",
    "</html>\n",
    "'''\n",
    "# !/usr/bin/python3\n",
    "# -*-coding:utf-8 -*-\n",
    "from flask import Flask\n",
    "from flask import request\n",
    "from flask import render_template\n",
    "app = Flask(__name__)\n",
    "\n",
    "\n",
    "@app.route(\"/\", methods=['GET'])\n",
    "def index():\n",
    "    name = request.args.get('name')\n",
    "    return \"Hi, \" + name\n",
    "\n",
    "@app.route(\"/post\", methods=['GET','POST']) #沒有傳參數時,預設為GET\n",
    "def submit():\n",
    "    if request.method == 'POST':\n",
    "        return 'Hi, ' + request.values['username']\n",
    "    return render_template('post.html')\n",
    "if __name__ == '__main__':\n",
    "    app.run()\n"
   ]
  },
  {
   "cell_type": "markdown",
   "metadata": {
    "id": "mNzm4QGYkKIP"
   },
   "source": [
    "# LINEBot機器人開發  \n",
    "1. LINE開發者網站https://developers.line.biz/zh-hant/\n",
    "** 注意:可能因為NAT而造成對外IP只有一個，所以可能會被擋,而無法連上 **\n",
    "2. 申請LINE開發者帳號  \n",
    "3. 新增Provider  \n",
    "4. 新增Channel  \n",
    "  選擇類型：MessageingAPI  \n",
    "  設定App Icon, name, description  \n",
    "  設定Category 及Subcategory  \n",
    "5. Basic settings  \n",
    "  按下Channel secret下的issue鈕取得Secret Key\n",
    "6. Messaging API  \n",
    "  用QR Code 先將機器人加入你LINE的好友\n",
    "  webhook要啟用，web url(稍後建好的URL填入這裡)\n",
    "  按Channel access token下的issure鈕取得 Token\n",
    "7. LINE官方帳號管理  \n",
    "  https://manager.line.biz/  \n",
    "  聊天> 回應設定> 回應模式：聊天機器人  \n",
    "  聊天> 回應設定> webhook：啟用  \n",
    "\n",
    "安裝LINE Bot SDK  \n",
    "pip3 install line-bot-sdk\n",
    "\n",
    "若在NAT/IP分享或虛擬機器上環境可以使用ngrok來讓外部網路連線至內部網路"
   ]
  },
  {
   "cell_type": "code",
   "execution_count": null,
   "metadata": {
    "id": "VohufQVu-fiA"
   },
   "outputs": [],
   "source": [
    "from flask import Flask, request, abort\n",
    "from linebot import ( LineBotApi, WebhookHandler)\n",
    "from linebot.exceptions import (InvalidSignatureError)\n",
    "from linebot.models import (MessageEvent, TextMessage, TextSendMessage ,)\n",
    "\n",
    "app = Flask(__name__)\n",
    "\n",
    "line_bot_api= LineBotApi('Channel access token')\n",
    "handler = WebhookHandler('Channel secret')\n",
    "@app.route(\"/callback\", methods=['POST'])\n",
    "def callback():\n",
    "    # get X-Line-Signature header value\n",
    "    signature = request.headers['X-Line-Signature']\n",
    "    # get request body as text\n",
    "    body = request.get_data(as_text=True)\n",
    "    app.logger.info(\"Request body: \" + body)\n",
    "\n",
    "# handle webhook body\n",
    "    try:\n",
    "        handler.handle(body, signature)\n",
    "    except InvalidSignatureError:\n",
    "        print(\"Invalid signature. Please check your channel access token/channel secret.\")\n",
    "        abort(400)\n",
    "    return 'OK'\n",
    "\n",
    "@handler.add(MessageEvent, message=TextMessage) #當有收到訊息事件且訊息是文字格式則執行handle_message(),MsgTpe參考https://ithelp.ithome.com.tw/articles/10217402\n",
    "def handle_message(event):#function name可以自定\n",
    "    line_bot_api.reply_message(\n",
    "        event.reply_token,\n",
    "        TextSendMessage(text=event.message.text))\n",
    "\n",
    "if __name__ == \"__main__\":\n",
    "    app.run()\n"
   ]
  },
  {
   "cell_type": "code",
   "execution_count": null,
   "metadata": {
    "id": "NSQja9JSZW3y"
   },
   "outputs": [],
   "source": [
    "#可接收影像檔案之LineBot\n",
    "from flask import Flask, request, abort\n",
    "from linebot import ( LineBotApi, WebhookHandler\n",
    ")\n",
    "from linebot.exceptions import (InvalidSignatureError)\n",
    "from linebot.models import (MessageEvent, TextMessage, TextSendMessage ,ImageMessage,)\n",
    "\n",
    "#from datetime import datetime\n",
    "\n",
    "app = Flask(__name__)\n",
    "\n",
    "line_bot_api= LineBotApi('  ')\n",
    "handler = WebhookHandler('  ')\n",
    "@app.route(\"/linebot\", methods=['POST'])\n",
    "def callback():\n",
    "    # get X-Line-Signature header value\n",
    "    signature = request.headers['X-Line-Signature']\n",
    "    # get request body as text\n",
    "    body = request.get_data(as_text=True)\n",
    "    #print(body)\n",
    "    app.logger.info(\"Request body: \" + body)\n",
    "\n",
    "# handle webhook body\n",
    "    try:\n",
    "        handler.handle(body, signature)\n",
    "    except InvalidSignatureError:\n",
    "        print(\"Invalid signature. Please check your channel access token/channel secret.\")\n",
    "        abort(400)\n",
    "    return 'OK'\n",
    "\n",
    "<!-- @handler.add(MessageEvent, message=[TextMessage,ImageMessage]) -->\n",
    "@handler.add(MessageEvent, message=TextMessage)\n",
    "def handle_message(event):\n",
    "    msg=\"\"\n",
    "    #print(event.source.user_id)\n",
    "    if(event.message.type==\"text\"):\n",
    "        msg=event.message.text\n",
    "<!--\n",
    "    if(event.message.type==\"image\"):\n",
    "        message_content = line_bot_api.get_message_content(event.message.id)\n",
    "        #filename=datetime.now()+\".png\"\n",
    "        filename=event.source.user_id[-5:]+\"_\"+str(event.timestamp)+\".png\"\n",
    "        #print(filename)\n",
    "\n",
    "        #Ref:https://github.com/line/line-bot-sdk-python\n",
    "        with open(\"./imgs/\"+filename, 'wb') as fd:#Line收到的影像都會被轉成PNG??\n",
    "            for chunk in message_content.iter_content(): \n",
    "                fd.write(chunk)\n",
    "        msg=\"你的影像已收到...\"\n",
    "    -->\n",
    "    line_bot_api.reply_message(\n",
    "        event.reply_token,\n",
    "        TextSendMessage(text=msg))\n",
    "\n",
    "if __name__ == \"__main__\":\n",
    "    app.run()\n"
   ]
  }
 ],
 "metadata": {
  "colab": {
   "collapsed_sections": [],
   "name": "20201101_flask_LineBot.ipynb",
   "provenance": []
  },
  "kernelspec": {
   "display_name": "Python 3",
   "language": "python",
   "name": "python3"
  },
  "language_info": {
   "codemirror_mode": {
    "name": "ipython",
    "version": 3
   },
   "file_extension": ".py",
   "mimetype": "text/x-python",
   "name": "python",
   "nbconvert_exporter": "python",
   "pygments_lexer": "ipython3",
   "version": "3.7.1"
  }
 },
 "nbformat": 4,
 "nbformat_minor": 1
}
